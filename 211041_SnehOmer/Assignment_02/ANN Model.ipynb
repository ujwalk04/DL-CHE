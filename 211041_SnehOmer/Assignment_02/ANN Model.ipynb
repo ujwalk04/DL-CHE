{
 "cells": [
  {
   "cell_type": "code",
   "execution_count": 275,
   "id": "96bfb517",
   "metadata": {},
   "outputs": [],
   "source": [
    "import numpy as np\n",
    "import pandas as pd\n",
    "import torch\n",
    "import matplotlib.pyplot as plt\n",
    "import torch.nn as nn\n",
    "from torch.autograd import Variable\n",
    "import torch.nn.functional as F\n",
    "import seaborn as sns\n",
    "from sklearn.model_selection import train_test_split\n",
    "from sklearn.preprocessing import StandardScaler"
   ]
  },
  {
   "cell_type": "code",
   "execution_count": 276,
   "id": "25fc90d9",
   "metadata": {},
   "outputs": [],
   "source": [
    "dataframe = pd.read_csv(\"Adsorption_Data.csv\")"
   ]
  },
  {
   "cell_type": "code",
   "execution_count": 277,
   "id": "451ad22c",
   "metadata": {},
   "outputs": [
    {
     "data": {
      "text/html": [
       "<div>\n",
       "<style scoped>\n",
       "    .dataframe tbody tr th:only-of-type {\n",
       "        vertical-align: middle;\n",
       "    }\n",
       "\n",
       "    .dataframe tbody tr th {\n",
       "        vertical-align: top;\n",
       "    }\n",
       "\n",
       "    .dataframe thead th {\n",
       "        text-align: right;\n",
       "    }\n",
       "</style>\n",
       "<table border=\"1\" class=\"dataframe\">\n",
       "  <thead>\n",
       "    <tr style=\"text-align: right;\">\n",
       "      <th></th>\n",
       "      <th>C(x1)</th>\n",
       "      <th>H(x2)</th>\n",
       "      <th>N(x3)</th>\n",
       "      <th>Si(x4)</th>\n",
       "      <th>BET(x5)</th>\n",
       "      <th>Adorption Capacity(output)</th>\n",
       "    </tr>\n",
       "  </thead>\n",
       "  <tbody>\n",
       "    <tr>\n",
       "      <th>0</th>\n",
       "      <td>12.8</td>\n",
       "      <td>1.16</td>\n",
       "      <td>0.38</td>\n",
       "      <td>7.51</td>\n",
       "      <td>8.75</td>\n",
       "      <td>0.144</td>\n",
       "    </tr>\n",
       "    <tr>\n",
       "      <th>1</th>\n",
       "      <td>6.5</td>\n",
       "      <td>0.57</td>\n",
       "      <td>0.04</td>\n",
       "      <td>3.34</td>\n",
       "      <td>3.69</td>\n",
       "      <td>0.334</td>\n",
       "    </tr>\n",
       "    <tr>\n",
       "      <th>2</th>\n",
       "      <td>8.7</td>\n",
       "      <td>0.54</td>\n",
       "      <td>0.21</td>\n",
       "      <td>40.98</td>\n",
       "      <td>33.37</td>\n",
       "      <td>0.452</td>\n",
       "    </tr>\n",
       "    <tr>\n",
       "      <th>3</th>\n",
       "      <td>3.5</td>\n",
       "      <td>0.35</td>\n",
       "      <td>0.12</td>\n",
       "      <td>22.05</td>\n",
       "      <td>7.55</td>\n",
       "      <td>0.333</td>\n",
       "    </tr>\n",
       "    <tr>\n",
       "      <th>4</th>\n",
       "      <td>7.2</td>\n",
       "      <td>0.71</td>\n",
       "      <td>0.03</td>\n",
       "      <td>3.16</td>\n",
       "      <td>1.97</td>\n",
       "      <td>0.383</td>\n",
       "    </tr>\n",
       "  </tbody>\n",
       "</table>\n",
       "</div>"
      ],
      "text/plain": [
       "   C(x1)  H(x2)  N(x3)  Si(x4)  BET(x5)  Adorption Capacity(output)\n",
       "0   12.8   1.16   0.38    7.51     8.75                       0.144\n",
       "1    6.5   0.57   0.04    3.34     3.69                       0.334\n",
       "2    8.7   0.54   0.21   40.98    33.37                       0.452\n",
       "3    3.5   0.35   0.12   22.05     7.55                       0.333\n",
       "4    7.2   0.71   0.03    3.16     1.97                       0.383"
      ]
     },
     "execution_count": 277,
     "metadata": {},
     "output_type": "execute_result"
    }
   ],
   "source": [
    "dataframe.head()"
   ]
  },
  {
   "cell_type": "code",
   "execution_count": 278,
   "id": "d96dbf67",
   "metadata": {},
   "outputs": [
    {
     "data": {
      "text/html": [
       "<div>\n",
       "<style scoped>\n",
       "    .dataframe tbody tr th:only-of-type {\n",
       "        vertical-align: middle;\n",
       "    }\n",
       "\n",
       "    .dataframe tbody tr th {\n",
       "        vertical-align: top;\n",
       "    }\n",
       "\n",
       "    .dataframe thead th {\n",
       "        text-align: right;\n",
       "    }\n",
       "</style>\n",
       "<table border=\"1\" class=\"dataframe\">\n",
       "  <thead>\n",
       "    <tr style=\"text-align: right;\">\n",
       "      <th></th>\n",
       "      <th>count</th>\n",
       "      <th>mean</th>\n",
       "      <th>std</th>\n",
       "      <th>min</th>\n",
       "      <th>25%</th>\n",
       "      <th>50%</th>\n",
       "      <th>75%</th>\n",
       "      <th>max</th>\n",
       "    </tr>\n",
       "  </thead>\n",
       "  <tbody>\n",
       "    <tr>\n",
       "      <th>C(x1)</th>\n",
       "      <td>35.0</td>\n",
       "      <td>58.794286</td>\n",
       "      <td>31.840992</td>\n",
       "      <td>2.50</td>\n",
       "      <td>41.300</td>\n",
       "      <td>69.10</td>\n",
       "      <td>86.200</td>\n",
       "      <td>92.60</td>\n",
       "    </tr>\n",
       "    <tr>\n",
       "      <th>H(x2)</th>\n",
       "      <td>35.0</td>\n",
       "      <td>1.704286</td>\n",
       "      <td>0.950239</td>\n",
       "      <td>0.15</td>\n",
       "      <td>1.180</td>\n",
       "      <td>1.70</td>\n",
       "      <td>2.100</td>\n",
       "      <td>4.10</td>\n",
       "    </tr>\n",
       "    <tr>\n",
       "      <th>N(x3)</th>\n",
       "      <td>35.0</td>\n",
       "      <td>0.591714</td>\n",
       "      <td>0.549762</td>\n",
       "      <td>0.00</td>\n",
       "      <td>0.235</td>\n",
       "      <td>0.35</td>\n",
       "      <td>0.895</td>\n",
       "      <td>2.10</td>\n",
       "    </tr>\n",
       "    <tr>\n",
       "      <th>Si(x4)</th>\n",
       "      <td>35.0</td>\n",
       "      <td>8.392000</td>\n",
       "      <td>12.089095</td>\n",
       "      <td>0.38</td>\n",
       "      <td>3.130</td>\n",
       "      <td>4.52</td>\n",
       "      <td>8.155</td>\n",
       "      <td>58.88</td>\n",
       "    </tr>\n",
       "    <tr>\n",
       "      <th>BET(x5)</th>\n",
       "      <td>35.0</td>\n",
       "      <td>187.250286</td>\n",
       "      <td>241.811243</td>\n",
       "      <td>1.97</td>\n",
       "      <td>14.675</td>\n",
       "      <td>96.00</td>\n",
       "      <td>332.500</td>\n",
       "      <td>1085.00</td>\n",
       "    </tr>\n",
       "    <tr>\n",
       "      <th>Adorption Capacity(output)</th>\n",
       "      <td>35.0</td>\n",
       "      <td>3.115200</td>\n",
       "      <td>6.441286</td>\n",
       "      <td>0.06</td>\n",
       "      <td>0.444</td>\n",
       "      <td>1.20</td>\n",
       "      <td>2.600</td>\n",
       "      <td>34.20</td>\n",
       "    </tr>\n",
       "  </tbody>\n",
       "</table>\n",
       "</div>"
      ],
      "text/plain": [
       "                            count        mean         std   min     25%  \\\n",
       "C(x1)                        35.0   58.794286   31.840992  2.50  41.300   \n",
       "H(x2)                        35.0    1.704286    0.950239  0.15   1.180   \n",
       "N(x3)                        35.0    0.591714    0.549762  0.00   0.235   \n",
       "Si(x4)                       35.0    8.392000   12.089095  0.38   3.130   \n",
       "BET(x5)                      35.0  187.250286  241.811243  1.97  14.675   \n",
       "Adorption Capacity(output)   35.0    3.115200    6.441286  0.06   0.444   \n",
       "\n",
       "                              50%      75%      max  \n",
       "C(x1)                       69.10   86.200    92.60  \n",
       "H(x2)                        1.70    2.100     4.10  \n",
       "N(x3)                        0.35    0.895     2.10  \n",
       "Si(x4)                       4.52    8.155    58.88  \n",
       "BET(x5)                     96.00  332.500  1085.00  \n",
       "Adorption Capacity(output)   1.20    2.600    34.20  "
      ]
     },
     "execution_count": 278,
     "metadata": {},
     "output_type": "execute_result"
    }
   ],
   "source": [
    "dataframe.describe().T"
   ]
  },
  {
   "cell_type": "code",
   "execution_count": 279,
   "id": "3848ddfd",
   "metadata": {},
   "outputs": [
    {
     "data": {
      "text/plain": [
       "(35, 6)"
      ]
     },
     "execution_count": 279,
     "metadata": {},
     "output_type": "execute_result"
    }
   ],
   "source": [
    "dataframe.shape"
   ]
  },
  {
   "cell_type": "code",
   "execution_count": 280,
   "id": "4efea3a2",
   "metadata": {},
   "outputs": [
    {
     "data": {
      "text/html": [
       "<div>\n",
       "<style scoped>\n",
       "    .dataframe tbody tr th:only-of-type {\n",
       "        vertical-align: middle;\n",
       "    }\n",
       "\n",
       "    .dataframe tbody tr th {\n",
       "        vertical-align: top;\n",
       "    }\n",
       "\n",
       "    .dataframe thead th {\n",
       "        text-align: right;\n",
       "    }\n",
       "</style>\n",
       "<table border=\"1\" class=\"dataframe\">\n",
       "  <thead>\n",
       "    <tr style=\"text-align: right;\">\n",
       "      <th></th>\n",
       "      <th>C(x1)</th>\n",
       "      <th>H(x2)</th>\n",
       "      <th>N(x3)</th>\n",
       "      <th>Si(x4)</th>\n",
       "      <th>BET(x5)</th>\n",
       "      <th>Adorption Capacity(output)</th>\n",
       "    </tr>\n",
       "  </thead>\n",
       "  <tbody>\n",
       "    <tr>\n",
       "      <th>C(x1)</th>\n",
       "      <td>1.000000</td>\n",
       "      <td>0.661529</td>\n",
       "      <td>0.132219</td>\n",
       "      <td>-0.580041</td>\n",
       "      <td>0.440584</td>\n",
       "      <td>0.270624</td>\n",
       "    </tr>\n",
       "    <tr>\n",
       "      <th>H(x2)</th>\n",
       "      <td>0.661529</td>\n",
       "      <td>1.000000</td>\n",
       "      <td>0.014156</td>\n",
       "      <td>-0.380672</td>\n",
       "      <td>0.163708</td>\n",
       "      <td>0.001367</td>\n",
       "    </tr>\n",
       "    <tr>\n",
       "      <th>N(x3)</th>\n",
       "      <td>0.132219</td>\n",
       "      <td>0.014156</td>\n",
       "      <td>1.000000</td>\n",
       "      <td>-0.157786</td>\n",
       "      <td>-0.316263</td>\n",
       "      <td>-0.186562</td>\n",
       "    </tr>\n",
       "    <tr>\n",
       "      <th>Si(x4)</th>\n",
       "      <td>-0.580041</td>\n",
       "      <td>-0.380672</td>\n",
       "      <td>-0.157786</td>\n",
       "      <td>1.000000</td>\n",
       "      <td>-0.179075</td>\n",
       "      <td>-0.092483</td>\n",
       "    </tr>\n",
       "    <tr>\n",
       "      <th>BET(x5)</th>\n",
       "      <td>0.440584</td>\n",
       "      <td>0.163708</td>\n",
       "      <td>-0.316263</td>\n",
       "      <td>-0.179075</td>\n",
       "      <td>1.000000</td>\n",
       "      <td>0.787414</td>\n",
       "    </tr>\n",
       "    <tr>\n",
       "      <th>Adorption Capacity(output)</th>\n",
       "      <td>0.270624</td>\n",
       "      <td>0.001367</td>\n",
       "      <td>-0.186562</td>\n",
       "      <td>-0.092483</td>\n",
       "      <td>0.787414</td>\n",
       "      <td>1.000000</td>\n",
       "    </tr>\n",
       "  </tbody>\n",
       "</table>\n",
       "</div>"
      ],
      "text/plain": [
       "                               C(x1)     H(x2)     N(x3)    Si(x4)   BET(x5)  \\\n",
       "C(x1)                       1.000000  0.661529  0.132219 -0.580041  0.440584   \n",
       "H(x2)                       0.661529  1.000000  0.014156 -0.380672  0.163708   \n",
       "N(x3)                       0.132219  0.014156  1.000000 -0.157786 -0.316263   \n",
       "Si(x4)                     -0.580041 -0.380672 -0.157786  1.000000 -0.179075   \n",
       "BET(x5)                     0.440584  0.163708 -0.316263 -0.179075  1.000000   \n",
       "Adorption Capacity(output)  0.270624  0.001367 -0.186562 -0.092483  0.787414   \n",
       "\n",
       "                            Adorption Capacity(output)  \n",
       "C(x1)                                         0.270624  \n",
       "H(x2)                                         0.001367  \n",
       "N(x3)                                        -0.186562  \n",
       "Si(x4)                                       -0.092483  \n",
       "BET(x5)                                       0.787414  \n",
       "Adorption Capacity(output)                    1.000000  "
      ]
     },
     "execution_count": 280,
     "metadata": {},
     "output_type": "execute_result"
    }
   ],
   "source": [
    "dataframe.corr()"
   ]
  },
  {
   "cell_type": "code",
   "execution_count": 281,
   "id": "1b84cb60",
   "metadata": {},
   "outputs": [
    {
     "data": {
      "image/png": "[encoded data removed]",
      "text/plain": [
       "<Figure size 640x480 with 1 Axes>"
      ]
     },
     "metadata": {},
     "output_type": "display_data"
    }
   ],
   "source": [
    "mymodel = np.poly1d(np.polyfit(dataframe['C(x1)'], dataframe['Adorption Capacity(output)'], 4))\n",
    "\n",
    "myline = np.linspace(0, 100, 100)\n",
    "plt.scatter(dataframe['C(x1)'],dataframe['Adorption Capacity(output)'])\n",
    "plt.plot(myline,mymodel(myline))\n",
    "plt.xlabel('C(x1)')\n",
    "plt.ylabel('Adorption Capacity(output)')\n",
    "plt.show()"
   ]
  },
  {
   "cell_type": "code",
   "execution_count": 282,
   "id": "0e85bb1c",
   "metadata": {},
   "outputs": [
    {
     "data": {
      "image/png": "[encoded data removed]",
      "text/plain": [
       "<Figure size 640x480 with 1 Axes>"
      ]
     },
     "metadata": {},
     "output_type": "display_data"
    }
   ],
   "source": [
    "mymodel = np.poly1d(np.polyfit(dataframe['H(x2)'], dataframe['Adorption Capacity(output)'], 4))\n",
    "\n",
    "myline = np.linspace(0, 100, 100)\n",
    "plt.scatter(dataframe['H(x2)'],dataframe['Adorption Capacity(output)'])\n",
    "plt.plot(myline,mymodel(myline))\n",
    "plt.xlabel('H(x2)')\n",
    "plt.ylabel('Adorption Capacity(output)')\n",
    "plt.show()"
   ]
  },
  {
   "cell_type": "code",
   "execution_count": 283,
   "id": "47f99cde",
   "metadata": {},
   "outputs": [
    {
     "data": {
      "image/png": "[encoded data removed]",
      "text/plain": [
       "<Figure size 640x480 with 1 Axes>"
      ]
     },
     "metadata": {},
     "output_type": "display_data"
    }
   ],
   "source": [
    "mymodel = np.poly1d(np.polyfit(dataframe['N(x3)'], dataframe['Adorption Capacity(output)'], 4))\n",
    "\n",
    "myline = np.linspace(0, 100, 100)\n",
    "plt.scatter(dataframe['N(x3)'],dataframe['Adorption Capacity(output)'])\n",
    "plt.plot(myline,mymodel(myline))\n",
    "plt.xlabel('N(x3)')\n",
    "plt.ylabel('Adorption Capacity(output)')\n",
    "plt.show()"
   ]
  },
  {
   "cell_type": "code",
   "execution_count": 284,
   "id": "1fa4fcbf",
   "metadata": {},
   "outputs": [
    {
     "data": {
      "image/png": "[encoded data removed]",
      "text/plain": [
       "<Figure size 640x480 with 1 Axes>"
      ]
     },
     "metadata": {},
     "output_type": "display_data"
    }
   ],
   "source": [
    "mymodel = np.poly1d(np.polyfit(dataframe['Si(x4)'], dataframe['Adorption Capacity(output)'], 4))\n",
    "\n",
    "myline = np.linspace(0, 100, 100)\n",
    "plt.scatter(dataframe['Si(x4)'],dataframe['Adorption Capacity(output)'])\n",
    "plt.plot(myline,mymodel(myline))\n",
    "plt.xlabel('Si(x4)')\n",
    "plt.ylabel('Adorption Capacity(output)')\n",
    "plt.show()"
   ]
  },
  {
   "cell_type": "code",
   "execution_count": 285,
   "id": "42584cac",
   "metadata": {},
   "outputs": [
    {
     "data": {
      "image/png": "[encoded data removed]",
      "text/plain": [
       "<Figure size 640x480 with 1 Axes>"
      ]
     },
     "metadata": {},
     "output_type": "display_data"
    }
   ],
   "source": [
    "mymodel = np.poly1d(np.polyfit(dataframe['BET(x5)'], dataframe['Adorption Capacity(output)'], 4))\n",
    "\n",
    "myline = np.linspace(0, 100, 100)\n",
    "plt.scatter(dataframe['BET(x5)'],dataframe['Adorption Capacity(output)'])\n",
    "plt.plot(myline,mymodel(myline))\n",
    "plt.xlabel('BET(x5)')\n",
    "plt.ylabel('Adorption Capacity(output)')\n",
    "plt.show()"
   ]
  },
  {
   "cell_type": "code",
   "execution_count": 286,
   "id": "3e1adce2",
   "metadata": {},
   "outputs": [],
   "source": [
    "df_train, df_test = train_test_split(dataframe, test_size=0.2, random_state=10)\n",
    "df_train, df_valid = train_test_split(dataframe, test_size=0.2, random_state=10)"
   ]
  },
  {
   "cell_type": "code",
   "execution_count": 287,
   "id": "866bcb53",
   "metadata": {},
   "outputs": [],
   "source": [
    "X_train = df_train.iloc[:,0:5]\n",
    "Y_train = df_train.iloc[:,5]\n",
    "\n",
    "X_valid = df_valid.iloc[:,0:5]\n",
    "Y_valid = df_valid.iloc[:,5]\n",
    "\n",
    "X_test = df_test.iloc[:,0:5]\n",
    "Y_test = df_test.iloc[:,5]"
   ]
  },
  {
   "cell_type": "code",
   "execution_count": 288,
   "id": "83efe0ab",
   "metadata": {},
   "outputs": [
    {
     "data": {
      "text/plain": [
       "((28, 5), (7, 5), (7, 5))"
      ]
     },
     "execution_count": 288,
     "metadata": {},
     "output_type": "execute_result"
    }
   ],
   "source": [
    "X_train.shape, X_valid.shape, X_test.shape"
   ]
  },
  {
   "cell_type": "code",
   "execution_count": 289,
   "id": "f023c11c",
   "metadata": {},
   "outputs": [],
   "source": [
    "sc = StandardScaler()\n",
    "X_train = sc.fit_transform(X_train)\n",
    "X_valid = sc.transform(X_valid)\n",
    "X_test = sc.transform(X_test)\n",
    "\n",
    "X_train = torch.from_numpy(X_train.astype(np.float32))\n",
    "X_valid = torch.from_numpy(X_valid.astype(np.float32))\n",
    "X_test = torch.from_numpy(X_test.astype(np.float32))\n",
    "\n"
   ]
  },
  {
   "cell_type": "code",
   "execution_count": 290,
   "id": "243a6dfe",
   "metadata": {},
   "outputs": [],
   "source": [
    "def df_to_tensor(df):\n",
    "    return torch.from_numpy(df.values).float()\n",
    "Y_train = df_to_tensor(Y_train)\n",
    "Y_valid = df_to_tensor(Y_valid)\n",
    "Y_test = df_to_tensor(Y_test)"
   ]
  },
  {
   "cell_type": "code",
   "execution_count": 291,
   "id": "b9f0cadc",
   "metadata": {},
   "outputs": [
    {
     "data": {
      "text/plain": [
       "torch.Size([28])"
      ]
     },
     "execution_count": 291,
     "metadata": {},
     "output_type": "execute_result"
    }
   ],
   "source": [
    "Y_train.shape"
   ]
  },
  {
   "cell_type": "code",
   "execution_count": 292,
   "id": "0d049072",
   "metadata": {},
   "outputs": [],
   "source": [
    "n_features = X_train.shape[1]\n",
    "input_size = X_train.shape[1]\n",
    "hidden_size = 64\n",
    "n_output = 1"
   ]
  },
  {
   "cell_type": "markdown",
   "id": "29f7c8fa",
   "metadata": {},
   "source": [
    "# MODEL-1"
   ]
  },
  {
   "cell_type": "code",
   "execution_count": 198,
   "id": "7499942e",
   "metadata": {
    "scrolled": false
   },
   "outputs": [
    {
     "name": "stdout",
     "output_type": "stream",
     "text": [
      "NeuralNet1(\n",
      "  (l1): Linear(in_features=5, out_features=81, bias=True)\n",
      "  (l2): Linear(in_features=81, out_features=27, bias=True)\n",
      "  (l3): Linear(in_features=27, out_features=9, bias=True)\n",
      "  (l4): Linear(in_features=9, out_features=1, bias=True)\n",
      ")\n",
      "Epoch: 0, Validation Loss: 2.2726354598999023\n",
      "Epoch: 10, Validation Loss: 2.0923140048980713\n",
      "Epoch: 20, Validation Loss: 1.933562159538269\n",
      "Epoch: 30, Validation Loss: 1.792373538017273\n",
      "Epoch: 40, Validation Loss: 1.6668330430984497\n",
      "Epoch: 50, Validation Loss: 1.5557440519332886\n",
      "Epoch: 60, Validation Loss: 1.4584499597549438\n",
      "Epoch: 70, Validation Loss: 1.3735098838806152\n",
      "Epoch: 80, Validation Loss: 1.3002023696899414\n",
      "Epoch: 90, Validation Loss: 1.2374894618988037\n",
      "-----------------------------------------------------------------------------------------------------------------------\n"
     ]
    },
    {
     "name": "stderr",
     "output_type": "stream",
     "text": [
      "C:\\Users\\Sneh Omer\\anaconda3\\lib\\site-packages\\torch\\nn\\modules\\loss.py:530: UserWarning: Using a target size (torch.Size([28])) that is different to the input size (torch.Size([28, 1])). This will likely lead to incorrect results due to broadcasting. Please ensure they have the same size.\n",
      "  return F.mse_loss(input, target, reduction=self.reduction)\n",
      "C:\\Users\\Sneh Omer\\anaconda3\\lib\\site-packages\\torch\\nn\\modules\\loss.py:530: UserWarning: Using a target size (torch.Size([7])) that is different to the input size (torch.Size([7, 1])). This will likely lead to incorrect results due to broadcasting. Please ensure they have the same size.\n",
      "  return F.mse_loss(input, target, reduction=self.reduction)\n"
     ]
    }
   ],
   "source": [
    "class NeuralNet1(nn.Module):\n",
    "    def __init__(self, n_features, n_output):\n",
    "        super(NeuralNet1, self).__init__()\n",
    "        self.l1 = nn.Linear(n_features,81) \n",
    "        self.l2 = nn.Linear(81,27)\n",
    "        self.l3 = nn.Linear(27,9)\n",
    "        self.l4 = nn.Linear(9,n_output)\n",
    "    \n",
    "    def forward(self, x):\n",
    "        out = self.l1(x)\n",
    "        out = torch.tanh(out)\n",
    "        out = self.l2(out)\n",
    "        out = F.leaky_relu(out)\n",
    "        out = self.l3(out)\n",
    "        out = F.leaky_relu(out)\n",
    "        out = self.l4(out)\n",
    "        return out\n",
    "\n",
    "model = NeuralNet1(input_size,n_output )\n",
    "print(model)\n",
    "num_epochs = 100\n",
    "learning_rate = 0.001\n",
    "criterion = nn.MSELoss()\n",
    "optimizer = torch.optim.SGD(model.parameters(), lr=learning_rate)\n",
    "for epoch in range(num_epochs):\n",
    "    # Forward pass and loss\n",
    "    Y_pred = model(X_train)\n",
    "    loss = criterion(Y_pred, Y_train)\n",
    "   \n",
    "    \n",
    "    # Backward pass and update\n",
    "    loss.backward()\n",
    "    optimizer.step()\n",
    "\n",
    "    # zero grad before new step\n",
    "    optimizer.zero_grad()\n",
    "        \n",
    "    if epoch % 10 == 0:\n",
    "        val_outputs = model(X_valid)\n",
    "        val_loss = criterion(val_outputs, Y_valid)\n",
    "        print(\"Epoch: {}, Validation Loss: {}\".format(epoch, val_loss.item()))\n",
    "\n",
    "print(\"-----------------------------------------------------------------------------------------------------------------------\")"
   ]
  },
  {
   "cell_type": "markdown",
   "id": "a4ced57a",
   "metadata": {},
   "source": [
    "# MODEL-2"
   ]
  },
  {
   "cell_type": "code",
   "execution_count": 294,
   "id": "fb2965fe",
   "metadata": {},
   "outputs": [
    {
     "name": "stdout",
     "output_type": "stream",
     "text": [
      "NeuralNet2(\n",
      "  (l1): Linear(in_features=5, out_features=9, bias=True)\n",
      "  (l2): Linear(in_features=9, out_features=6, bias=True)\n",
      "  (l3): Linear(in_features=6, out_features=1, bias=True)\n",
      ")\n",
      "Epoch: 0, Validation Loss: 2.099424123764038\n",
      "Epoch: 10, Validation Loss: 1.908515453338623\n",
      "Epoch: 20, Validation Loss: 1.7408838272094727\n",
      "Epoch: 30, Validation Loss: 1.5934678316116333\n",
      "Epoch: 40, Validation Loss: 1.4652416706085205\n",
      "Epoch: 50, Validation Loss: 1.3559350967407227\n",
      "Epoch: 60, Validation Loss: 1.2641829252243042\n",
      "Epoch: 70, Validation Loss: 1.1891913414001465\n",
      "Epoch: 80, Validation Loss: 1.1312658786773682\n",
      "Epoch: 90, Validation Loss: 1.090569257736206\n",
      "-----------------------------------------------------------------------------------------------------------------------\n"
     ]
    }
   ],
   "source": [
    "class NeuralNet2(nn.Module):\n",
    "    def __init__(self, n_features, n_output):\n",
    "        super(NeuralNet2, self).__init__()\n",
    "        self.l1 = nn.Linear(n_features,9) \n",
    "        self.l2 = nn.Linear(9,6)\n",
    "        self.l3 = nn.Linear(6,n_output)\n",
    "    \n",
    "    def forward(self, x):\n",
    "        out = self.l1(x)\n",
    "        out = torch.tanh(out)\n",
    "        out = self.l2(out)\n",
    "        out = F.leaky_relu(out)\n",
    "        out = self.l3(out)\n",
    "        return out\n",
    "\n",
    "model = NeuralNet2(input_size,n_output )\n",
    "print(model)\n",
    "num_epochs = 100\n",
    "learning_rate = 0.001\n",
    "criterion = nn.MSELoss()\n",
    "optimizer = torch.optim.SGD(model.parameters(), lr=learning_rate)\n",
    "for epoch in range(num_epochs):\n",
    "    # Forward pass and loss\n",
    "    Y_pred = model(X_train)\n",
    "    loss = criterion(Y_pred, Y_train)\n",
    "   \n",
    "    \n",
    "    # Backward pass and update\n",
    "    loss.backward()\n",
    "    optimizer.step()\n",
    "\n",
    "    # zero grad before new step\n",
    "    optimizer.zero_grad()\n",
    "        \n",
    "    if epoch % 10 == 0:\n",
    "        val_outputs = model(X_valid)\n",
    "        val_loss = criterion(val_outputs, Y_valid)\n",
    "        print(\"Epoch: {}, Validation Loss: {}\".format(epoch, val_loss.item()))\n",
    "\n",
    "print(\"-----------------------------------------------------------------------------------------------------------------------\")"
   ]
  },
  {
   "cell_type": "markdown",
   "id": "421c9c9f",
   "metadata": {},
   "source": [
    "# MODEL-3"
   ]
  },
  {
   "cell_type": "code",
   "execution_count": 217,
   "id": "710700bc",
   "metadata": {},
   "outputs": [
    {
     "name": "stdout",
     "output_type": "stream",
     "text": [
      "NeuralNet3(\n",
      "  (l1): Linear(in_features=5, out_features=15, bias=True)\n",
      "  (l2): Linear(in_features=15, out_features=9, bias=True)\n",
      "  (l3): Linear(in_features=9, out_features=3, bias=True)\n",
      "  (l4): Linear(in_features=3, out_features=1, bias=True)\n",
      ")\n",
      "Epoch: 0, Validation Loss: 2.360309600830078\n",
      "Epoch: 10, Validation Loss: 2.3353757858276367\n",
      "Epoch: 20, Validation Loss: 2.310741901397705\n",
      "Epoch: 30, Validation Loss: 2.2864041328430176\n",
      "Epoch: 40, Validation Loss: 2.2623589038848877\n",
      "Epoch: 50, Validation Loss: 2.2386014461517334\n",
      "Epoch: 60, Validation Loss: 2.215129852294922\n",
      "Epoch: 70, Validation Loss: 2.191932201385498\n",
      "Epoch: 80, Validation Loss: 2.1690118312835693\n",
      "Epoch: 90, Validation Loss: 2.146367073059082\n",
      "-----------------------------------------------------------------------------------------------------------------------\n"
     ]
    },
    {
     "name": "stderr",
     "output_type": "stream",
     "text": [
      "C:\\Users\\Sneh Omer\\anaconda3\\lib\\site-packages\\torch\\nn\\modules\\loss.py:530: UserWarning: Using a target size (torch.Size([28])) that is different to the input size (torch.Size([28, 1])). This will likely lead to incorrect results due to broadcasting. Please ensure they have the same size.\n",
      "  return F.mse_loss(input, target, reduction=self.reduction)\n",
      "C:\\Users\\Sneh Omer\\anaconda3\\lib\\site-packages\\torch\\nn\\modules\\loss.py:530: UserWarning: Using a target size (torch.Size([7])) that is different to the input size (torch.Size([7, 1])). This will likely lead to incorrect results due to broadcasting. Please ensure they have the same size.\n",
      "  return F.mse_loss(input, target, reduction=self.reduction)\n"
     ]
    }
   ],
   "source": [
    "class NeuralNet3(nn.Module):\n",
    "    def __init__(self, n_features, n_output):\n",
    "        super(NeuralNet3, self).__init__()\n",
    "        self.l1 = nn.Linear(n_features,15)\n",
    "        self.l2 = nn.Linear(15,9)\n",
    "        self.l3 = nn.Linear(9,3)\n",
    "        self.l4 = nn.Linear(3, n_output)\n",
    "    \n",
    "    def forward(self, x):\n",
    "        out = self.l1(x)\n",
    "        out = F.leaky_relu(out)\n",
    "        out = self.l2(out)\n",
    "        out = F.leaky_relu(out)\n",
    "        out = self.l3(out)\n",
    "        out = torch.tanh(out)\n",
    "        out = self.l4(out)\n",
    "        return out\n",
    "\n",
    "model = NeuralNet3(input_size,n_output )\n",
    "print(model)\n",
    "num_epochs = 100\n",
    "learning_rate = 0.0001\n",
    "criterion = nn.MSELoss()\n",
    "optimizer = torch.optim.SGD(model.parameters(), lr=learning_rate)\n",
    "for epoch in range(num_epochs):\n",
    "    # Forward pass and loss\n",
    "    Y_pred = model(X_train)\n",
    "    loss = criterion(Y_pred, Y_train)\n",
    "   \n",
    "    \n",
    "    # Backward pass and update\n",
    "    loss.backward()\n",
    "    optimizer.step()\n",
    "\n",
    "    # zero grad before new step\n",
    "    optimizer.zero_grad()\n",
    "        \n",
    "    if epoch % 10 == 0:\n",
    "        val_outputs = model(X_valid)\n",
    "        val_loss = criterion(val_outputs, Y_valid)\n",
    "        print(\"Epoch: {}, Validation Loss: {}\".format(epoch, val_loss.item()))\n",
    "\n",
    "print(\"-----------------------------------------------------------------------------------------------------------------------\")"
   ]
  },
  {
   "cell_type": "markdown",
   "id": "2252f60c",
   "metadata": {},
   "source": [
    "# ********************************************************************************************"
   ]
  },
  {
   "cell_type": "markdown",
   "id": "734d046a",
   "metadata": {},
   "source": [
    "\n",
    "Developed 3 different models, by varying the number of hidden layer, number of neurons and activation functions used.\n",
    "\n",
    "Loss on Valid DataSet for :\n",
    "    \n",
    "    Model1: 1.2374894618988037\n",
    "    \n",
    "    Model2: 1.090569257736206\n",
    "    \n",
    "    Model3: 2.146367073059082\n",
    "\n",
    "So, we will analyse Model2 and will tune its other hyperparameters to get a better result."
   ]
  },
  {
   "cell_type": "markdown",
   "id": "54282a4a",
   "metadata": {},
   "source": [
    "# ********************************************************************************************"
   ]
  },
  {
   "cell_type": "markdown",
   "id": "1155408b",
   "metadata": {},
   "source": [
    "# Modifying Model-2\n",
    "{Changing the number of epochs and learning rate}"
   ]
  },
  {
   "cell_type": "code",
   "execution_count": 255,
   "id": "64f668bd",
   "metadata": {},
   "outputs": [
    {
     "name": "stdout",
     "output_type": "stream",
     "text": [
      "NeuralNet2(\n",
      "  (l1): Linear(in_features=5, out_features=9, bias=True)\n",
      "  (l2): Linear(in_features=9, out_features=6, bias=True)\n",
      "  (l3): Linear(in_features=6, out_features=1, bias=True)\n",
      ")\n",
      "Epoch: 0, Validation Loss: 1.885654330253601\n",
      "Epoch: 10, Validation Loss: 1.8665893077850342\n",
      "Epoch: 20, Validation Loss: 1.8478749990463257\n",
      "Epoch: 30, Validation Loss: 1.8295048475265503\n",
      "Epoch: 40, Validation Loss: 1.811471939086914\n",
      "-----------------------------------------------------------------------------------------------------------------------\n"
     ]
    },
    {
     "name": "stderr",
     "output_type": "stream",
     "text": [
      "C:\\Users\\Sneh Omer\\anaconda3\\lib\\site-packages\\torch\\nn\\modules\\loss.py:530: UserWarning: Using a target size (torch.Size([28])) that is different to the input size (torch.Size([28, 1])). This will likely lead to incorrect results due to broadcasting. Please ensure they have the same size.\n",
      "  return F.mse_loss(input, target, reduction=self.reduction)\n",
      "C:\\Users\\Sneh Omer\\anaconda3\\lib\\site-packages\\torch\\nn\\modules\\loss.py:530: UserWarning: Using a target size (torch.Size([7])) that is different to the input size (torch.Size([7, 1])). This will likely lead to incorrect results due to broadcasting. Please ensure they have the same size.\n",
      "  return F.mse_loss(input, target, reduction=self.reduction)\n"
     ]
    }
   ],
   "source": [
    "class NeuralNet2(nn.Module):\n",
    "    def __init__(self, n_features, n_output):\n",
    "        super(NeuralNet2, self).__init__()\n",
    "        self.l1 = nn.Linear(n_features,9) \n",
    "        self.l2 = nn.Linear(9,6)\n",
    "        self.l3 = nn.Linear(6,n_output)\n",
    "    \n",
    "    def forward(self, x):\n",
    "        out = self.l1(x)\n",
    "        out = torch.tanh(out)\n",
    "        out = self.l2(out)\n",
    "        out = F.leaky_relu(out)\n",
    "        out = self.l3(out)\n",
    "        return out\n",
    "\n",
    "model = NeuralNet2(input_size,n_output )\n",
    "print(model)\n",
    "num_epochs = 50\n",
    "learning_rate = 0.0001\n",
    "criterion = nn.MSELoss()\n",
    "optimizer = torch.optim.SGD(model.parameters(), lr=learning_rate)\n",
    "for epoch in range(num_epochs):\n",
    "    # Forward pass and loss\n",
    "    Y_pred = model(X_train)\n",
    "    loss = criterion(Y_pred, Y_train)\n",
    "   \n",
    "    \n",
    "    # Backward pass and update\n",
    "    loss.backward()\n",
    "    optimizer.step()\n",
    "\n",
    "    # zero grad before new step\n",
    "    optimizer.zero_grad()\n",
    "        \n",
    "    if epoch % 10 == 0:\n",
    "        val_outputs = model(X_valid)\n",
    "        val_loss = criterion(val_outputs, Y_valid)\n",
    "        print(\"Epoch: {}, Validation Loss: {}\".format(epoch, val_loss.item()))\n",
    "\n",
    "print(\"-----------------------------------------------------------------------------------------------------------------------\")"
   ]
  },
  {
   "cell_type": "code",
   "execution_count": 133,
   "id": "b33ab6be",
   "metadata": {},
   "outputs": [
    {
     "name": "stdout",
     "output_type": "stream",
     "text": [
      "NeuralNet3(\n",
      "  (l1): Linear(in_features=5, out_features=15, bias=True)\n",
      "  (l2): Linear(in_features=15, out_features=9, bias=True)\n",
      "  (l3): Linear(in_features=9, out_features=3, bias=True)\n",
      "  (l4): Linear(in_features=3, out_features=1, bias=True)\n",
      ")\n",
      "Epoch: 0, Loss: 58.37073516845703, Validation Loss: 1.2643725872039795\n",
      "Epoch: 10, Loss: 58.246456146240234, Validation Loss: 1.2448363304138184\n",
      "Epoch: 20, Loss: 58.12374496459961, Validation Loss: 1.226418137550354\n",
      "Epoch: 30, Loss: 58.0025749206543, Validation Loss: 1.2090888023376465\n",
      "Epoch: 40, Loss: 57.88288879394531, Validation Loss: 1.1928207874298096\n",
      "Epoch: 50, Loss: 57.76463317871094, Validation Loss: 1.1775885820388794\n",
      "Epoch: 60, Loss: 57.64775466918945, Validation Loss: 1.163407564163208\n",
      "Epoch: 70, Loss: 57.5322380065918, Validation Loss: 1.1502262353897095\n",
      "Epoch: 80, Loss: 57.41804885864258, Validation Loss: 1.1380037069320679\n",
      "Epoch: 90, Loss: 57.305145263671875, Validation Loss: 1.1267836093902588\n",
      "Epoch: 100, Loss: 57.193504333496094, Validation Loss: 1.1164753437042236\n",
      "Epoch: 110, Loss: 57.0831184387207, Validation Loss: 1.1070588827133179\n",
      "Epoch: 120, Loss: 56.973995208740234, Validation Loss: 1.0985184907913208\n",
      "Epoch: 130, Loss: 56.86602783203125, Validation Loss: 1.0908372402191162\n",
      "Epoch: 140, Loss: 56.759212493896484, Validation Loss: 1.0840024948120117\n",
      "Epoch: 150, Loss: 56.653568267822266, Validation Loss: 1.0780251026153564\n",
      "Epoch: 160, Loss: 56.548988342285156, Validation Loss: 1.072859525680542\n"
     ]
    },
    {
     "name": "stderr",
     "output_type": "stream",
     "text": [
      "C:\\Users\\Sneh Omer\\anaconda3\\lib\\site-packages\\torch\\nn\\modules\\loss.py:530: UserWarning: Using a target size (torch.Size([28])) that is different to the input size (torch.Size([28, 1])). This will likely lead to incorrect results due to broadcasting. Please ensure they have the same size.\n",
      "  return F.mse_loss(input, target, reduction=self.reduction)\n",
      "C:\\Users\\Sneh Omer\\anaconda3\\lib\\site-packages\\torch\\nn\\modules\\loss.py:530: UserWarning: Using a target size (torch.Size([7])) that is different to the input size (torch.Size([7, 1])). This will likely lead to incorrect results due to broadcasting. Please ensure they have the same size.\n",
      "  return F.mse_loss(input, target, reduction=self.reduction)\n"
     ]
    },
    {
     "name": "stdout",
     "output_type": "stream",
     "text": [
      "Epoch: 170, Loss: 56.445472717285156, Validation Loss: 1.068496584892273\n",
      "Epoch: 180, Loss: 56.3430290222168, Validation Loss: 1.0649287700653076\n",
      "Epoch: 190, Loss: 56.241615295410156, Validation Loss: 1.0621442794799805\n",
      "Epoch: 200, Loss: 56.14118957519531, Validation Loss: 1.0601303577423096\n",
      "Epoch: 210, Loss: 56.041744232177734, Validation Loss: 1.0588809251785278\n",
      "Epoch: 220, Loss: 55.943267822265625, Validation Loss: 1.0583860874176025\n",
      "Epoch: 230, Loss: 55.845794677734375, Validation Loss: 1.0586363077163696\n",
      "Epoch: 240, Loss: 55.749298095703125, Validation Loss: 1.059624433517456\n",
      "Epoch: 250, Loss: 55.65374755859375, Validation Loss: 1.061343789100647\n",
      "Epoch: 260, Loss: 55.55913543701172, Validation Loss: 1.0637880563735962\n",
      "Epoch: 270, Loss: 55.46544647216797, Validation Loss: 1.0669511556625366\n",
      "Epoch: 280, Loss: 55.37267303466797, Validation Loss: 1.0708271265029907\n",
      "Epoch: 290, Loss: 55.28079605102539, Validation Loss: 1.0754104852676392\n",
      "Epoch: 300, Loss: 55.189815521240234, Validation Loss: 1.0806909799575806\n",
      "Epoch: 310, Loss: 55.09971237182617, Validation Loss: 1.0866584777832031\n",
      "Epoch: 320, Loss: 55.010501861572266, Validation Loss: 1.093307614326477\n",
      "Epoch: 330, Loss: 54.922149658203125, Validation Loss: 1.1006382703781128\n",
      "Epoch: 340, Loss: 54.83466720581055, Validation Loss: 1.1086457967758179\n",
      "Epoch: 350, Loss: 54.7480354309082, Validation Loss: 1.1173254251480103\n",
      "Epoch: 360, Loss: 54.662254333496094, Validation Loss: 1.126672387123108\n",
      "Epoch: 370, Loss: 54.57732391357422, Validation Loss: 1.1366832256317139\n",
      "Epoch: 380, Loss: 54.493125915527344, Validation Loss: 1.1474043130874634\n",
      "Epoch: 390, Loss: 54.40972137451172, Validation Loss: 1.1587896347045898\n",
      "---------------------------------------------------------------------------------------------------------------------\n"
     ]
    }
   ],
   "source": [
    "class NeuralNet2(nn.Module):\n",
    "    def __init__(self, n_features, n_output):\n",
    "        super(NeuralNet2, self).__init__()\n",
    "        self.l1 = nn.Linear(n_features,9) \n",
    "        self.l2 = nn.Linear(9,6)\n",
    "        self.l3 = nn.Linear(6,n_output)\n",
    "    \n",
    "    def forward(self, x):\n",
    "        out = self.l1(x)\n",
    "        out = torch.tanh(out)\n",
    "        out = self.l2(out)\n",
    "        out = F.leaky_relu(out)\n",
    "        out = self.l3(out)\n",
    "        return out\n",
    "\n",
    "model = NeuralNet2(input_size,n_output )\n",
    "print(model)\n",
    "num_epochs = 400\n",
    "learning_rate = 0.002\n",
    "criterion = nn.MSELoss()\n",
    "optimizer = torch.optim.SGD(model.parameters(), lr=learning_rate)\n",
    "for epoch in range(num_epochs):\n",
    "    # Forward pass and loss\n",
    "    Y_pred = model(X_train)\n",
    "    loss = criterion(Y_pred, Y_train)\n",
    "   \n",
    "    \n",
    "    # Backward pass and update\n",
    "    loss.backward()\n",
    "    optimizer.step()\n",
    "\n",
    "    # zero grad before new step\n",
    "    optimizer.zero_grad()\n",
    "        \n",
    "    if epoch % 10 == 0:\n",
    "        val_outputs = model(X_valid)\n",
    "        val_loss = criterion(val_outputs, Y_valid)\n",
    "        print(\"Epoch: {}, Validation Loss: {}\".format(epoch, val_loss.item()))\n",
    "\n",
    "print(\"-----------------------------------------------------------------------------------------------------------------------\")"
   ]
  },
  {
   "cell_type": "markdown",
   "id": "4cc4c894",
   "metadata": {},
   "source": [
    "# Observing the errors of different validation loss values, the earlier designed Model-2, gives the lowest loss-value. Thus, we will proceed with Model-2."
   ]
  },
  {
   "cell_type": "code",
   "execution_count": 295,
   "id": "0b090c28",
   "metadata": {},
   "outputs": [
    {
     "data": {
      "image/png": "[encoded data removed]",
      "text/plain": [
       "<Figure size 640x480 with 1 Axes>"
      ]
     },
     "metadata": {},
     "output_type": "display_data"
    }
   ],
   "source": [
    "Y_pred = model(X_test)\n",
    "X = Y_pred.detach().numpy()\n",
    "Y = Y_test.detach().numpy()\n",
    "Z = np.linspace(min(min(X),min(Y)),max(max(X),max(Y)),X.shape[0])\n",
    "plt.scatter(Z,X)\n",
    "plt.scatter(Z,Y)\n",
    "plt.show()"
   ]
  },
  {
   "cell_type": "markdown",
   "id": "37907dea",
   "metadata": {},
   "source": [
    "# ********************************************************************************************"
   ]
  },
  {
   "cell_type": "code",
   "execution_count": null,
   "id": "cc3a3f94",
   "metadata": {},
   "outputs": [],
   "source": []
  }
 ],
 "metadata": {
  "kernelspec": {
   "display_name": "Python 3 (ipykernel)",
   "language": "python",
   "name": "python3"
  },
  "language_info": {
   "codemirror_mode": {
    "name": "ipython",
    "version": 3
   },
   "file_extension": ".py",
   "mimetype": "text/x-python",
   "name": "python",
   "nbconvert_exporter": "python",
   "pygments_lexer": "ipython3",
   "version": "3.9.16"
  }
 },
 "nbformat": 4,
 "nbformat_minor": 5
}
